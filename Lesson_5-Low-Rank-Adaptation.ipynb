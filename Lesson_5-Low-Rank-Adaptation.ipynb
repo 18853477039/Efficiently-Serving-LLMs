{
 "cells": [
  {
   "cell_type": "code",
   "id": "initial_id",
   "metadata": {
    "collapsed": true,
    "ExecuteTime": {
     "end_time": "2025-03-11T14:27:38.866649Z",
     "start_time": "2025-03-11T14:27:37.801228Z"
    }
   },
   "source": [
    "import copy\n",
    "import matplotlib.pyplot as plt\n",
    "import numpy as np\n",
    "import random\n",
    "import time\n",
    "import torch\n",
    "import torch.nn.functional as F\n",
    "from tqdm import tqdm"
   ],
   "outputs": [],
   "execution_count": 1
  },
  {
   "metadata": {
    "ExecuteTime": {
     "end_time": "2025-03-11T14:28:40.712235Z",
     "start_time": "2025-03-11T14:28:40.691792Z"
    }
   },
   "cell_type": "code",
   "source": [
    "# set the seed so we get the same results from here on for each run\n",
    "torch.manual_seed(42)"
   ],
   "id": "58126112419bcca2",
   "outputs": [
    {
     "data": {
      "text/plain": [
       "<torch._C.Generator at 0x125709cb0>"
      ]
     },
     "execution_count": 2,
     "metadata": {},
     "output_type": "execute_result"
    }
   ],
   "execution_count": 2
  },
  {
   "metadata": {
    "ExecuteTime": {
     "end_time": "2025-03-11T14:33:19.484480Z",
     "start_time": "2025-03-11T14:33:19.470904Z"
    }
   },
   "cell_type": "code",
   "source": [
    "class TestModel(torch.nn.Module):\n",
    "    def __init__(self, hidden_size):\n",
    "        super().__init__()\n",
    "        self.embedding = torch.nn.Embedding(10, hidden_size)\n",
    "        self.linear = torch.nn.Linear(hidden_size, hidden_size)\n",
    "        self.lm_head = torch.nn.Linear(hidden_size, 10)\n",
    "\n",
    "    def forward(self, input_ids):\n",
    "        x = self.embedding(input_ids)\n",
    "        x = self.linear(x)\n",
    "        x = self.lm_head(x)\n",
    "        return x"
   ],
   "id": "da66f26ab5a530d2",
   "outputs": [],
   "execution_count": 4
  },
  {
   "metadata": {
    "ExecuteTime": {
     "end_time": "2025-03-11T14:36:20.313126Z",
     "start_time": "2025-03-11T14:36:20.282095Z"
    }
   },
   "cell_type": "code",
   "source": [
    "# set a reasonable hidden size to illustrate the small fraction params needed to be added for LoRA\n",
    "hidden_size = 1024\n",
    "model = TestModel(hidden_size)\n"
   ],
   "id": "167e3afe23adf365",
   "outputs": [],
   "execution_count": 5
  },
  {
   "metadata": {
    "ExecuteTime": {
     "end_time": "2025-03-11T14:36:53.150229Z",
     "start_time": "2025-03-11T14:36:53.142288Z"
    }
   },
   "cell_type": "code",
   "source": [
    "# dummy inputs\n",
    "input_ids = torch.LongTensor([[0, 1, 2, 3, 4, 5, 6, 7]])"
   ],
   "id": "a9cae6f0528433d0",
   "outputs": [],
   "execution_count": 7
  },
  {
   "metadata": {
    "ExecuteTime": {
     "end_time": "2025-03-11T14:38:04.016285Z",
     "start_time": "2025-03-11T14:38:04.011956Z"
    }
   },
   "cell_type": "code",
   "source": [
    "# toy example of a detokenizer\n",
    "# The vocabulary is only consists of 10 words (different colors)\n",
    "detokenizer = ['red', 'green', 'blue', 'yellow', 'black', 'white', 'purple', 'orange', 'pink', 'brown']\n"
   ],
   "id": "e739aaceb4ecd21e",
   "outputs": [],
   "execution_count": 8
  },
  {
   "metadata": {
    "ExecuteTime": {
     "end_time": "2025-03-11T14:56:45.058791Z",
     "start_time": "2025-03-11T14:56:45.054891Z"
    }
   },
   "cell_type": "code",
   "source": [
    "# this is the same generation step as we saw in lesson 2 (batching)\n",
    "def generate_token(model, **kwargs):\n",
    "    with torch.no_grad():\n",
    "        logits = model(**kwargs)\n",
    "    last_logis = logits[:, -1, :]\n",
    "    next_token_ids = last_logis.argmax(dim=1)\n",
    "\n",
    "    return [detokenizer[token_id] for token_id in next_token_ids]"
   ],
   "id": "5b1617cd4470f739",
   "outputs": [],
   "execution_count": 17
  },
  {
   "metadata": {
    "ExecuteTime": {
     "end_time": "2025-03-11T14:56:45.188367Z",
     "start_time": "2025-03-11T14:56:45.183917Z"
    }
   },
   "cell_type": "code",
   "source": [
    "# generate one token\n",
    "next_token = generate_token(model, input_ids=input_ids)[0]\n",
    "next_token"
   ],
   "id": "59526b552856a267",
   "outputs": [
    {
     "data": {
      "text/plain": [
       "'orange'"
      ]
     },
     "execution_count": 18,
     "metadata": {},
     "output_type": "execute_result"
    }
   ],
   "execution_count": 18
  },
  {
   "metadata": {
    "ExecuteTime": {
     "end_time": "2025-03-11T15:03:48.934953Z",
     "start_time": "2025-03-11T15:03:48.926843Z"
    }
   },
   "cell_type": "code",
   "source": [
    "# dummy input tensor\n",
    "# shape: (batch_size, sequence_length, hidden_size)\n",
    "X = torch.randn(1, 8, 1024)"
   ],
   "id": "255abc2ef785c",
   "outputs": [],
   "execution_count": 19
  },
  {
   "metadata": {
    "ExecuteTime": {
     "end_time": "2025-03-11T15:05:11.023544Z",
     "start_time": "2025-03-11T15:05:11.018018Z"
    }
   },
   "cell_type": "code",
   "source": [
    " # LoRA A and B tensors\n",
    " # A has shape (hidden_size, rank)\n",
    " # B has shape (rank, hidden_size)\n",
    " lora_a = torch.randn(1024, 2)\n",
    " lora_b = torch.randn(2, 1024)\n"
   ],
   "id": "9199b4163f73c940",
   "outputs": [],
   "execution_count": 20
  },
  {
   "metadata": {
    "ExecuteTime": {
     "end_time": "2025-03-11T15:05:28.256159Z",
     "start_time": "2025-03-11T15:05:28.240906Z"
    }
   },
   "cell_type": "code",
   "source": "W = model.linear.weight",
   "id": "886bf0bfd2b0d5be",
   "outputs": [],
   "execution_count": 21
  },
  {
   "metadata": {
    "ExecuteTime": {
     "end_time": "2025-03-11T15:05:30.832953Z",
     "start_time": "2025-03-11T15:05:30.828660Z"
    }
   },
   "cell_type": "code",
   "source": "W.shape",
   "id": "dd4be39245c938f0",
   "outputs": [
    {
     "data": {
      "text/plain": [
       "torch.Size([1024, 1024])"
      ]
     },
     "execution_count": 22,
     "metadata": {},
     "output_type": "execute_result"
    }
   ],
   "execution_count": 22
  },
  {
   "metadata": {
    "ExecuteTime": {
     "end_time": "2025-03-11T15:06:11.062149Z",
     "start_time": "2025-03-11T15:06:11.054371Z"
    }
   },
   "cell_type": "code",
   "source": "W2 = lora_a @ lora_b",
   "id": "2c178b6a72555e01",
   "outputs": [],
   "execution_count": 23
  },
  {
   "metadata": {
    "ExecuteTime": {
     "end_time": "2025-03-11T15:06:22.029051Z",
     "start_time": "2025-03-11T15:06:22.023888Z"
    }
   },
   "cell_type": "code",
   "source": "W2.shape",
   "id": "a80c31c7639a8cf2",
   "outputs": [
    {
     "data": {
      "text/plain": [
       "torch.Size([1024, 1024])"
      ]
     },
     "execution_count": 24,
     "metadata": {},
     "output_type": "execute_result"
    }
   ],
   "execution_count": 24
  },
  {
   "metadata": {
    "ExecuteTime": {
     "end_time": "2025-03-11T15:08:54.270510Z",
     "start_time": "2025-03-11T15:08:54.267157Z"
    }
   },
   "cell_type": "code",
   "source": [
    "# Compare number of elements of A and B with number of elements of W\n",
    "# W here has shape (hidden_size, hidden_size)\n",
    "lora_numel = lora_a.numel() + lora_b.numel()\n",
    "base_numel = W.numel()\n",
    "print(\"|A+B| / |W|:\", lora_numel / base_numel)"
   ],
   "id": "4509bd678a7263c0",
   "outputs": [
    {
     "name": "stdout",
     "output_type": "stream",
     "text": [
      "|A+B| / |W|: 0.00390625\n"
     ]
    }
   ],
   "execution_count": 26
  },
  {
   "metadata": {
    "ExecuteTime": {
     "end_time": "2025-03-11T15:13:59.745894Z",
     "start_time": "2025-03-11T15:13:59.739834Z"
    }
   },
   "cell_type": "code",
   "source": [
    "class LoraLayer(torch.nn.Module):\n",
    "    def __init__(self, base_layer, r):\n",
    "        super().__init__()\n",
    "        self.base_layer = base_layer\n",
    "\n",
    "        d_in, d_out = self.base_layer.weight.shape\n",
    "        self.lora_a = torch.randn(d_in, r)\n",
    "        self.lora_b = torch.randn(r, d_out)\n",
    "\n",
    "    def forward(self, x):\n",
    "        y1 = self.base_layer(x)\n",
    "        y2 = x @ self.lora_a @ self.lora_b\n",
    "        return y1 + y2\n"
   ],
   "id": "8ed3250513115247",
   "outputs": [],
   "execution_count": 27
  },
  {
   "metadata": {
    "ExecuteTime": {
     "end_time": "2025-03-11T15:14:57.421209Z",
     "start_time": "2025-03-11T15:14:57.409778Z"
    }
   },
   "cell_type": "code",
   "source": [
    "# warp the linear layer of our toy model, use rank 2\n",
    "lora_layer = LoraLayer(model.linear, 2)\n",
    "lora_layer(X).shape"
   ],
   "id": "bd54298a2491f64e",
   "outputs": [
    {
     "data": {
      "text/plain": [
       "torch.Size([1, 8, 1024])"
      ]
     },
     "execution_count": 28,
     "metadata": {},
     "output_type": "execute_result"
    }
   ],
   "execution_count": 28
  },
  {
   "metadata": {
    "ExecuteTime": {
     "end_time": "2025-03-11T15:18:32.458280Z",
     "start_time": "2025-03-11T15:18:32.432879Z"
    }
   },
   "cell_type": "code",
   "source": [
    "lora_model = copy.deepcopy(model)\n",
    "\n",
    "lora_model.linear = lora_layer"
   ],
   "id": "6a98cad13d6eee01",
   "outputs": [],
   "execution_count": 30
  },
  {
   "metadata": {
    "ExecuteTime": {
     "end_time": "2025-03-11T15:18:36.950292Z",
     "start_time": "2025-03-11T15:18:36.947173Z"
    }
   },
   "cell_type": "code",
   "source": "lora_model",
   "id": "e1eb254ef1496b9c",
   "outputs": [
    {
     "data": {
      "text/plain": [
       "TestModel(\n",
       "  (embedding): Embedding(10, 1024)\n",
       "  (linear): LoraLayer(\n",
       "    (base_layer): Linear(in_features=1024, out_features=1024, bias=True)\n",
       "  )\n",
       "  (lm_head): Linear(in_features=1024, out_features=10, bias=True)\n",
       ")"
      ]
     },
     "execution_count": 31,
     "metadata": {},
     "output_type": "execute_result"
    }
   ],
   "execution_count": 31
  },
  {
   "metadata": {
    "ExecuteTime": {
     "end_time": "2025-03-11T15:19:44.136365Z",
     "start_time": "2025-03-11T15:19:44.124726Z"
    }
   },
   "cell_type": "code",
   "source": [
    "next_token = generate_token(lora_model, input_ids=input_ids)\n",
    "next_token[0]"
   ],
   "id": "4229e6640395a81a",
   "outputs": [
    {
     "data": {
      "text/plain": [
       "'white'"
      ]
     },
     "execution_count": 32,
     "metadata": {},
     "output_type": "execute_result"
    }
   ],
   "execution_count": 32
  },
  {
   "metadata": {},
   "cell_type": "code",
   "outputs": [],
   "execution_count": null,
   "source": "",
   "id": "c4d3b16a6f194a4a"
  }
 ],
 "metadata": {
  "kernelspec": {
   "display_name": "Python 3",
   "language": "python",
   "name": "python3"
  },
  "language_info": {
   "codemirror_mode": {
    "name": "ipython",
    "version": 2
   },
   "file_extension": ".py",
   "mimetype": "text/x-python",
   "name": "python",
   "nbconvert_exporter": "python",
   "pygments_lexer": "ipython2",
   "version": "2.7.6"
  }
 },
 "nbformat": 4,
 "nbformat_minor": 5
}
