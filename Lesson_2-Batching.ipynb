{
 "cells": [
  {
   "cell_type": "code",
   "id": "initial_id",
   "metadata": {
    "collapsed": true,
    "ExecuteTime": {
     "end_time": "2025-03-09T04:11:05.234712Z",
     "start_time": "2025-03-09T04:11:05.027948Z"
    }
   },
   "source": [
    "from time import time_ns\n",
    "\n",
    "import matplotlib.pyplot as plt\n",
    "import numpy as np\n",
    "import time\n",
    "import torch\n",
    "from transformers import AutoModelForCausalLM, AutoTokenizer\n",
    "from tqdm import tqdm"
   ],
   "outputs": [],
   "execution_count": 30
  },
  {
   "metadata": {
    "ExecuteTime": {
     "end_time": "2025-03-09T04:00:55.674906Z",
     "start_time": "2025-03-09T03:59:53.976120Z"
    }
   },
   "cell_type": "code",
   "source": [
    "model_name = \"gpt2\"\n",
    "tokenizer = AutoTokenizer.from_pretrained(model_name)\n",
    "model = AutoModelForCausalLM.from_pretrained(model_name)"
   ],
   "id": "160492703c0a64f1",
   "outputs": [],
   "execution_count": 4
  },
  {
   "metadata": {
    "ExecuteTime": {
     "end_time": "2025-03-09T04:00:55.724092Z",
     "start_time": "2025-03-09T04:00:55.709160Z"
    }
   },
   "cell_type": "code",
   "source": [
    "prompt = \"The quick brown fox jumped over the\"\n",
    "inputs = tokenizer(prompt, return_tensors=\"pt\")\n",
    "inputs"
   ],
   "id": "caa1c59dbfda2654",
   "outputs": [
    {
     "data": {
      "text/plain": [
       "{'input_ids': tensor([[  464,  2068,  7586, 21831, 11687,   625,   262]]), 'attention_mask': tensor([[1, 1, 1, 1, 1, 1, 1]])}"
      ]
     },
     "execution_count": 5,
     "metadata": {},
     "output_type": "execute_result"
    }
   ],
   "execution_count": 5
  },
  {
   "metadata": {
    "ExecuteTime": {
     "end_time": "2025-03-09T04:00:55.745555Z",
     "start_time": "2025-03-09T04:00:55.743480Z"
    }
   },
   "cell_type": "code",
   "source": [
    "def generate_token_with_past(inputs):\n",
    "    with torch.no_grad():\n",
    "        outputs = model(**inputs)\n",
    "    logits = outputs.logits\n",
    "    last_logits = logits[0, -1, :]\n",
    "    next_token_id = last_logits.argmax()\n",
    "    return next_token_id, outputs.past_key_values"
   ],
   "id": "b59bc4977ed5a48c",
   "outputs": [],
   "execution_count": 6
  },
  {
   "metadata": {
    "ExecuteTime": {
     "end_time": "2025-03-09T04:00:56.067361Z",
     "start_time": "2025-03-09T04:00:55.751346Z"
    }
   },
   "cell_type": "code",
   "source": [
    "def generate(inputs, max_tokens):\n",
    "    generated_tokens = []\n",
    "    next_inputs = inputs\n",
    "    for _ in range(max_tokens):\n",
    "        next_token_id, past_key_values = generate_token_with_past(next_inputs)\n",
    "        next_inputs = {\n",
    "            \"input_ids\": next_token_id.reshape((1, 1)),\n",
    "            \"attention_mask\": torch.cat(\n",
    "                [next_inputs[\"attention_mask\"], torch.tensor([[1]])],\n",
    "                dim=1\n",
    "            ),\n",
    "            \"past_key_values\": past_key_values\n",
    "        }\n",
    "\n",
    "        next_token = tokenizer.decode(next_token_id)\n",
    "        generated_tokens.append(next_token)\n",
    "    return  \"\".join(generated_tokens)\n",
    "\n",
    "token = generate(inputs, max_tokens=10)\n",
    "print(token)"
   ],
   "id": "1bbfa42d1b0a7e3a",
   "outputs": [
    {
     "name": "stdout",
     "output_type": "stream",
     "text": [
      " fence and ran to the other side of the fence\n"
     ]
    }
   ],
   "execution_count": 7
  },
  {
   "metadata": {},
   "cell_type": "markdown",
   "source": "## multiple",
   "id": "f606c7ef2b8a534"
  },
  {
   "metadata": {
    "ExecuteTime": {
     "end_time": "2025-03-09T04:00:56.077385Z",
     "start_time": "2025-03-09T04:00:56.075054Z"
    }
   },
   "cell_type": "code",
   "source": [
    "# Define PAD Token = EOS Token = 50256\n",
    "tokenizer.pad_token = tokenizer.eos_token\n",
    "model.config.pad_token_id = model.config.eos_token_id\n"
   ],
   "id": "ca7a91e4c2989fc7",
   "outputs": [],
   "execution_count": 8
  },
  {
   "metadata": {
    "ExecuteTime": {
     "end_time": "2025-03-09T04:00:56.091469Z",
     "start_time": "2025-03-09T04:00:56.089868Z"
    }
   },
   "cell_type": "code",
   "source": [
    "# pad on the left so we can append new tokens on the right\n",
    "tokenizer.padding_side = \"left\"\n",
    "tokenizer.truncation_side = \"left\""
   ],
   "id": "db47bb08d858649b",
   "outputs": [],
   "execution_count": 9
  },
  {
   "metadata": {
    "ExecuteTime": {
     "end_time": "2025-03-09T04:00:56.096963Z",
     "start_time": "2025-03-09T04:00:56.094406Z"
    }
   },
   "cell_type": "code",
   "source": [
    "# multiple prompts of varying lengths to send to the model at once\n",
    "prompts = [\n",
    "    \"The quick brown fox jumped over the\",\n",
    "    \"The rain in Spain falls\",\n",
    "    \"What comes up must\",\n",
    "]\n",
    "\n",
    "# note: padding=True ensures the padding token\n",
    "# will be inserted into the tokenized tensors\n",
    "inputs = tokenizer(prompts, padding=True, return_tensors=\"pt\")"
   ],
   "id": "148f4ac15f3b64ad",
   "outputs": [],
   "execution_count": 10
  },
  {
   "metadata": {
    "ExecuteTime": {
     "end_time": "2025-03-09T04:00:56.105539Z",
     "start_time": "2025-03-09T04:00:56.103332Z"
    }
   },
   "cell_type": "code",
   "source": [
    "print(\"input_ids:\", inputs[\"input_ids\"])\n",
    "print(\"shape:\", inputs[\"input_ids\"].shape)"
   ],
   "id": "4f6fc385fc7ed525",
   "outputs": [
    {
     "name": "stdout",
     "output_type": "stream",
     "text": [
      "input_ids: tensor([[  464,  2068,  7586, 21831, 11687,   625,   262],\n",
      "        [50256, 50256,   464,  6290,   287,  8602,  8953],\n",
      "        [50256, 50256, 50256,  2061,  2058,   510,  1276]])\n",
      "shape: torch.Size([3, 7])\n"
     ]
    }
   ],
   "execution_count": 11
  },
  {
   "metadata": {
    "ExecuteTime": {
     "end_time": "2025-03-09T04:00:56.118632Z",
     "start_time": "2025-03-09T04:00:56.116080Z"
    }
   },
   "cell_type": "code",
   "source": [
    "print(\"attention_mask:\", inputs[\"attention_mask\"])\n",
    "print(\"shape:\", inputs[\"attention_mask\"].shape)\n"
   ],
   "id": "c43a29d3326c68f6",
   "outputs": [
    {
     "name": "stdout",
     "output_type": "stream",
     "text": [
      "attention_mask: tensor([[1, 1, 1, 1, 1, 1, 1],\n",
      "        [0, 0, 1, 1, 1, 1, 1],\n",
      "        [0, 0, 0, 1, 1, 1, 1]])\n",
      "shape: torch.Size([3, 7])\n"
     ]
    }
   ],
   "execution_count": 12
  },
  {
   "metadata": {
    "ExecuteTime": {
     "end_time": "2025-03-09T04:00:56.140319Z",
     "start_time": "2025-03-09T04:00:56.134834Z"
    }
   },
   "cell_type": "code",
   "source": [
    "# position_ids tell the transform the ordinal position of each token in the input sequence\n",
    "# for single input inference, this is just [0 .. n]\n",
    "# for n tokens, but for batch inference, we need to 0 out the padding tokens at the start of the sequence\n",
    "attention_mask = inputs[\"attention_mask\"]\n",
    "position_ids = attention_mask.long().cumsum(-1) - 1\n",
    "print(\"position_ids:\", position_ids)\n",
    "position_ids.masked_fill_(attention_mask == 0, 1)"
   ],
   "id": "c6db9c6aef164c73",
   "outputs": [
    {
     "name": "stdout",
     "output_type": "stream",
     "text": [
      "position_ids: tensor([[ 0,  1,  2,  3,  4,  5,  6],\n",
      "        [-1, -1,  0,  1,  2,  3,  4],\n",
      "        [-1, -1, -1,  0,  1,  2,  3]])\n"
     ]
    },
    {
     "data": {
      "text/plain": [
       "tensor([[0, 1, 2, 3, 4, 5, 6],\n",
       "        [1, 1, 0, 1, 2, 3, 4],\n",
       "        [1, 1, 1, 0, 1, 2, 3]])"
      ]
     },
     "execution_count": 13,
     "metadata": {},
     "output_type": "execute_result"
    }
   ],
   "execution_count": 13
  },
  {
   "metadata": {
    "ExecuteTime": {
     "end_time": "2025-03-09T04:00:56.199587Z",
     "start_time": "2025-03-09T04:00:56.159793Z"
    }
   },
   "cell_type": "code",
   "source": [
    "# save as before, but include the position_ids\n",
    "with torch.no_grad():\n",
    "    outputs = model(position_ids=position_ids, **inputs)\n",
    "logits = outputs.logits"
   ],
   "id": "e79dfed70c1bf041",
   "outputs": [],
   "execution_count": 14
  },
  {
   "metadata": {
    "ExecuteTime": {
     "end_time": "2025-03-09T04:00:56.527479Z",
     "start_time": "2025-03-09T04:00:56.524328Z"
    }
   },
   "cell_type": "code",
   "source": [
    "last_logits = logits[:, -1, :]\n",
    "next_token_ids = last_logits.argmax(dim=-1)\n",
    "next_token_ids"
   ],
   "id": "7aa156cc910829b0",
   "outputs": [
    {
     "data": {
      "text/plain": [
       "tensor([13990,   319,   307])"
      ]
     },
     "execution_count": 15,
     "metadata": {},
     "output_type": "execute_result"
    }
   ],
   "execution_count": 15
  },
  {
   "metadata": {
    "ExecuteTime": {
     "end_time": "2025-03-09T04:00:56.536892Z",
     "start_time": "2025-03-09T04:00:56.533670Z"
    }
   },
   "cell_type": "code",
   "source": [
    "next_tokens = tokenizer.batch_decode(next_token_ids)\n",
    "next_tokens"
   ],
   "id": "d4f36d05ce61bd8e",
   "outputs": [
    {
     "data": {
      "text/plain": [
       "[' fence', ' on', ' be']"
      ]
     },
     "execution_count": 16,
     "metadata": {},
     "output_type": "execute_result"
    }
   ],
   "execution_count": 16
  },
  {
   "metadata": {
    "ExecuteTime": {
     "end_time": "2025-03-09T04:00:56.722309Z",
     "start_time": "2025-03-09T04:00:56.720148Z"
    }
   },
   "cell_type": "code",
   "source": [
    "def generate_batch_tokens_with_past(inputs):\n",
    "    with torch.no_grad():\n",
    "        outputs = model(**inputs)\n",
    "    logits = outputs.logits\n",
    "    last_logits = logits[:, -1, :]\n",
    "    next_token_ids = last_logits.argmax(dim=1)\n",
    "    return next_token_ids, outputs.past_key_values"
   ],
   "id": "fdbd70bc2c3fa44f",
   "outputs": [],
   "execution_count": 17
  },
  {
   "metadata": {
    "ExecuteTime": {
     "end_time": "2025-03-09T04:00:56.816331Z",
     "start_time": "2025-03-09T04:00:56.813557Z"
    }
   },
   "cell_type": "code",
   "source": [
    "def generate_batch(inputs, max_tokens):\n",
    "    # create a list of tokens for every input in the batch\n",
    "    generated_tokens = [[] for _ in range(inputs[\"input_ids\"].shape[0])]\n",
    "\n",
    "    attention_mask = inputs[\"attention_mask\"]\n",
    "    position_ids = attention_mask.long().cumsum(-1) - 1\n",
    "    position_ids.masked_fill_(attention_mask == 0, 1)\n",
    "\n",
    "    next_inputs = {\n",
    "        \"position_ids\": position_ids,\n",
    "        **inputs\n",
    "    }\n",
    "\n",
    "    for _ in range(max_tokens):\n",
    "        next_token_ids, past_key_values = generate_batch_tokens_with_past(next_inputs)\n",
    "        next_inputs = {\n",
    "            \"input_ids\": next_token_ids.reshape(-1, 1),\n",
    "            \"position_ids\": next_inputs[\"position_ids\"][:, -1].unsqueeze(-1) + 1,\n",
    "            \"attention_mask\": torch.cat(\n",
    "                [next_inputs[\"attention_mask\"], torch.ones((next_token_ids.shape[0], 1))],\n",
    "                dim=1\n",
    "            ),\n",
    "            \"past_key_values\": past_key_values\n",
    "        }\n",
    "\n",
    "        next_tokens = tokenizer.batch_decode(next_token_ids)\n",
    "        for i, token in enumerate(next_tokens):\n",
    "            generated_tokens[i].append(token)\n",
    "\n",
    "    return [\"\".join(tokens) for tokens in generated_tokens]\n"
   ],
   "id": "a47e7aa4056154b0",
   "outputs": [],
   "execution_count": 18
  },
  {
   "metadata": {
    "ExecuteTime": {
     "end_time": "2025-03-09T04:00:57.077892Z",
     "start_time": "2025-03-09T04:00:56.858094Z"
    }
   },
   "cell_type": "code",
   "source": "generated_tokens = generate_batch(inputs, max_tokens=10)",
   "id": "f9aca4968421d062",
   "outputs": [],
   "execution_count": 19
  },
  {
   "metadata": {
    "ExecuteTime": {
     "end_time": "2025-03-09T04:00:57.168686Z",
     "start_time": "2025-03-09T04:00:57.166168Z"
    }
   },
   "cell_type": "code",
   "source": [
    "for prompt, generated, in zip(prompts, generated_tokens):\n",
    "    print(prompt, f\"\\x1b[31m{generated}\\x1b[0m\\n\")"
   ],
   "id": "d5a1437fa29f17fb",
   "outputs": [
    {
     "name": "stdout",
     "output_type": "stream",
     "text": [
      "The quick brown fox jumped over the \u001B[31m fence and ran to the other side of the fence\u001B[0m\n",
      "\n",
      "The rain in Spain falls \u001B[31m on the first day of the month, and the\u001B[0m\n",
      "\n",
      "What comes up must \u001B[31m be a good idea.\n",
      "\n",
      "\"I think\u001B[0m\n",
      "\n"
     ]
    }
   ],
   "execution_count": 20
  },
  {
   "metadata": {
    "ExecuteTime": {
     "end_time": "2025-03-09T04:01:47.874054Z",
     "start_time": "2025-03-09T04:01:40.122871Z"
    }
   },
   "cell_type": "code",
   "source": [
    "# constants\n",
    "max_tokens = 10\n",
    "\n",
    "# observations\n",
    "durations = []\n",
    "throughputs = []\n",
    "latencies = []\n",
    "\n",
    "batch_sizes = [2**p for p in range(10)]\n",
    "for batch_size in batch_sizes:\n",
    "    print(f\"bs={batch_size}\")\n",
    "\n",
    "    # generate tokens for batch and record duration\n",
    "    t0 = time.time()\n",
    "    batch_prompt = [\n",
    "        prompts[i % len(prompts)] for i in range(batch_size)\n",
    "    ]\n",
    "    inputs = tokenizer(\n",
    "        batch_prompt, padding=True, return_tensors=\"pt\"\n",
    "    )\n",
    "    generated_tokens = generate_batch(inputs, max_tokens=max_tokens)\n",
    "    duration_s = time.time() - t0\n",
    "\n",
    "    # calculate throughput\n",
    "    ntokens = batch_size * max_tokens\n",
    "    throughput = ntokens / duration_s\n",
    "    avg_latency = duration_s / max_tokens\n",
    "    print(f\"duration: {duration_s}\")\n",
    "    print(f\"throughput: {throughput} tokens/s\")\n",
    "    print(f\"avg latency: {avg_latency}\")\n",
    "    print()\n",
    "\n",
    "    durations.append(duration_s)\n",
    "    throughputs.append(throughput)\n",
    "    latencies.append(avg_latency)\n"
   ],
   "id": "5e273a1a48ba0fad",
   "outputs": [
    {
     "name": "stdout",
     "output_type": "stream",
     "text": [
      "bs=1\n",
      "duration: 0.3043630123138428\n",
      "throughput: 32.855503446287806 tokens/s\n",
      "avg latency: 0.03043630123138428\n",
      "\n",
      "bs=2\n",
      "duration: 0.2544410228729248\n",
      "throughput: 78.60367708861388 tokens/s\n",
      "avg latency: 0.02544410228729248\n",
      "\n",
      "bs=4\n",
      "duration: 0.2321031093597412\n",
      "throughput: 172.33720009327064 tokens/s\n",
      "avg latency: 0.023210310935974122\n",
      "\n",
      "bs=8\n",
      "duration: 0.2372438907623291\n",
      "throughput: 337.20573264474064 tokens/s\n",
      "avg latency: 0.02372438907623291\n",
      "\n",
      "bs=16\n",
      "duration: 0.26306724548339844\n",
      "throughput: 608.2095082038529 tokens/s\n",
      "avg latency: 0.026306724548339842\n",
      "\n",
      "bs=32\n",
      "duration: 0.3864140510559082\n",
      "throughput: 828.1272358641558 tokens/s\n",
      "avg latency: 0.03864140510559082\n",
      "\n",
      "bs=64\n",
      "duration: 0.5345520973205566\n",
      "throughput: 1197.2640332121064 tokens/s\n",
      "avg latency: 0.05345520973205566\n",
      "\n",
      "bs=128\n",
      "duration: 0.7802138328552246\n",
      "throughput: 1640.5758858642475 tokens/s\n",
      "avg latency: 0.07802138328552247\n",
      "\n",
      "bs=256\n",
      "duration: 1.739175796508789\n",
      "throughput: 1471.9616068363696 tokens/s\n",
      "avg latency: 0.1739175796508789\n",
      "\n",
      "bs=512\n",
      "duration: 3.0126912593841553\n",
      "throughput: 1699.4771648279068 tokens/s\n",
      "avg latency: 0.30126912593841554\n",
      "\n"
     ]
    }
   ],
   "execution_count": 23
  },
  {
   "metadata": {},
   "cell_type": "markdown",
   "source": "",
   "id": "11efcaf2466d2c63"
  },
  {
   "metadata": {
    "ExecuteTime": {
     "end_time": "2025-03-09T04:11:08.013630Z",
     "start_time": "2025-03-09T04:11:08.009877Z"
    }
   },
   "cell_type": "code",
   "source": [
    "def render_plot(x, y1, y2, x_label, y1_label, y2_label):\n",
    "    fig, ax1 = plt.subplots()\n",
    "\n",
    "    # plot the first line\n",
    "    color = 'tab:red'\n",
    "    ax1.set_xlabel(x_label)\n",
    "    ax1.set_ylabel(y1_label, color=color)\n",
    "    ax1.plot(x, y1, color=color)\n",
    "    ax1.tick_params(axis='y', labelcolor=color)\n",
    "\n",
    "    # set the x-axis to be log scaled\n",
    "    ax1.set_xscale('log', base=2)\n",
    "\n",
    "    # Instantiate a second axes shares the same x-axis\n",
    "    ax2 = ax1.twinx()\n",
    "    color = 'tab:blue'\n",
    "    ax2.set_ylabel(y2_label, color=color)\n",
    "    ax2.plot(x, y2, color=color)\n",
    "    ax2.tick_params(axis='y', labelcolor=color)\n",
    "\n",
    "    plt.show()"
   ],
   "id": "53b24970e840e587",
   "outputs": [],
   "execution_count": 31
  },
  {
   "metadata": {
    "ExecuteTime": {
     "end_time": "2025-03-09T04:11:08.319402Z",
     "start_time": "2025-03-09T04:11:08.150899Z"
    }
   },
   "cell_type": "code",
   "source": [
    "render_plot(\n",
    "    batch_sizes,\n",
    "    throughputs,\n",
    "    latencies,\n",
    "    \"batch size\",\n",
    "    \"throughput (tokens/s)\",\n",
    "    \"avg latency (s)\"\n",
    ")"
   ],
   "id": "92d19c2cc6f16807",
   "outputs": [
    {
     "data": {
      "text/plain": [
       "<Figure size 640x480 with 2 Axes>"
      ],
      "image/png": "[encoded data removed]"
     },
     "metadata": {},
     "output_type": "display_data"
    }
   ],
   "execution_count": 32
  },
  {
   "metadata": {},
   "cell_type": "code",
   "outputs": [],
   "execution_count": null,
   "source": "",
   "id": "3425b508ca470fa5"
  }
 ],
 "metadata": {
  "kernelspec": {
   "display_name": "Python 3",
   "language": "python",
   "name": "python3"
  },
  "language_info": {
   "codemirror_mode": {
    "name": "ipython",
    "version": 2
   },
   "file_extension": ".py",
   "mimetype": "text/x-python",
   "name": "python",
   "nbconvert_exporter": "python",
   "pygments_lexer": "ipython2",
   "version": "2.7.6"
  }
 },
 "nbformat": 4,
 "nbformat_minor": 5
}
