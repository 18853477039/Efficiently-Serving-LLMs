{
 "cells": [
  {
   "cell_type": "code",
   "id": "initial_id",
   "metadata": {
    "collapsed": true,
    "ExecuteTime": {
     "end_time": "2025-03-12T02:41:39.889120Z",
     "start_time": "2025-03-12T02:41:39.083795Z"
    }
   },
   "source": [
    "import asyncio\n",
    "import json\n",
    "import time\n",
    "from typing import List\n",
    "\n",
    "import matplotlib.pyplot as plt\n",
    "from tqdm.notebook import tqdm\n",
    "from pydantic import BaseModel, constr"
   ],
   "outputs": [],
   "execution_count": 1
  },
  {
   "metadata": {
    "ExecuteTime": {
     "end_time": "2025-03-12T02:41:40.106626Z",
     "start_time": "2025-03-12T02:41:39.895279Z"
    }
   },
   "cell_type": "code",
   "source": [
    "from lorax import AsyncClient, Client\n",
    "from utils import endpoint_url, headers\n",
    "\n",
    "client = Client(endpoint_url, headers=headers)"
   ],
   "id": "271ee65fc856c8de",
   "outputs": [],
   "execution_count": 2
  },
  {
   "metadata": {},
   "cell_type": "markdown",
   "source": "## Prefill vs Decode (KV Cache)\n",
   "id": "e920bb0aee129ec8"
  },
  {
   "metadata": {},
   "cell_type": "code",
   "outputs": [],
   "execution_count": null,
   "source": [
    "t0 = time.time()\n",
    "resp = client.generate(\"What is deep learning?\", max_new_tokens=32)\n",
    "duration_s = time.time() - t0\n",
    "\n",
    "print(resp.generated_text)\n",
    "print(\"\\n\\n-------------\")\n",
    "print(\"Request duration (s):\", duration_s)\n"
   ],
   "id": "33fc2aa95f4b9d17"
  },
  {
   "metadata": {
    "ExecuteTime": {
     "end_time": "2025-03-12T02:46:00.429477Z",
     "start_time": "2025-03-12T02:46:00.424207Z"
    }
   },
   "cell_type": "code",
   "source": [
    "duration_s = []\n",
    "t0 = time.time()\n",
    "for resp in client.generate_stream(\"What is deep learning?\", max_new_tokens=32):\n",
    "    duration_s.append(time.time() - t0)\n",
    "    if not resp.token.special:\n",
    "        print(resp.token.text, sep=\"\", end=\"\", flush=True)\n",
    "    t0 = time.time()\n",
    "\n",
    "print(\"\\n\\n-------------\")\n",
    "print(\"Time to first token (TTFT) (s):\", duration_s[0])\n",
    "print(\"Throughout (tok / s):\", (len(duration_s) - 1) / sum(duration_s[1:]))"
   ],
   "id": "24364d66b1f84378",
   "outputs": [],
   "execution_count": 3
  },
  {
   "metadata": {},
   "cell_type": "code",
   "outputs": [],
   "execution_count": null,
   "source": [
    "plt.plot(duration_s)\n",
    "plt.show()"
   ],
   "id": "80485fa4a842063b"
  },
  {
   "metadata": {},
   "cell_type": "markdown",
   "source": "##  Continuous Batching",
   "id": "f950eede4d849cc"
  },
  {
   "metadata": {
    "ExecuteTime": {
     "end_time": "2025-03-12T02:54:52.644992Z",
     "start_time": "2025-03-12T02:54:52.633650Z"
    }
   },
   "cell_type": "code",
   "source": [
    "color_codes = [\n",
    "    \"31\", # red\n",
    "    \"32\", # green\n",
    "    \"33\", # blue\n",
    "]\n",
    "\n",
    "def format_text(text, i):\n",
    "    return f\"\\x1b[{color_codes[i]}m{text}\\x1b[0m\""
   ],
   "id": "be70a3cff15ac7cd",
   "outputs": [],
   "execution_count": 4
  },
  {
   "metadata": {
    "ExecuteTime": {
     "end_time": "2025-03-12T03:08:10.942913Z",
     "start_time": "2025-03-12T03:08:10.726151Z"
    }
   },
   "cell_type": "code",
   "source": [
    "async_client = AsyncClient(endpoint_url, headers=headers)\n",
    "\n",
    "duration_s = [[], [], []]\n",
    "\n",
    "async def run(max_new_tokens, i):\n",
    "    t0 = time.time()\n",
    "    async for resp in async_client.generate_stream(\"What is deep learning?\", max_new_tokens=max_new_tokens):\n",
    "        duration_s[i].append(time.time() - t0)\n",
    "        print(format_text(resp.token.text, i), sep=\"\", end=\"\", flush=True)\n",
    "        t0 = time.time()\n",
    "\n",
    "\n",
    "t0 = time.time()\n",
    "all_max_new_tokens = [100, 10, 10]\n",
    "await asyncio.gather(*[run(max_new_tokens, i) for i, max_new_tokens in enumerate(all_max_new_tokens)])\n",
    "\n",
    "print(\"\\n\\n-------------\")\n",
    "print(\"Time to first token (TTFT) (s):\", [s[0] for s in duration_s])\n",
    "print(\"Throughout (tok / s):\", [(len(s) - 1) / sum(s[1:]) for s in duration_s])\n",
    "print(\"Total duration (s):\", time.time() - t0)\n"
   ],
   "id": "97f48ef9c8f656d4",
   "outputs": [
    {
     "ename": "NameError",
     "evalue": "name 'endpoint_url' is not defined",
     "output_type": "error",
     "traceback": [
      "\u001B[0;31m---------------------------------------------------------------------------\u001B[0m",
      "\u001B[0;31mNameError\u001B[0m                                 Traceback (most recent call last)",
      "Cell \u001B[0;32mIn[5], line 1\u001B[0m\n\u001B[0;32m----> 1\u001B[0m async_client \u001B[38;5;241m=\u001B[39m AsyncClient(endpoint_url, headers\u001B[38;5;241m=\u001B[39mheaders)\n\u001B[1;32m      3\u001B[0m duration_s \u001B[38;5;241m=\u001B[39m [[], [], []]\n\u001B[1;32m      5\u001B[0m \u001B[38;5;28;01masync\u001B[39;00m \u001B[38;5;28;01mdef\u001B[39;00m \u001B[38;5;21mrun\u001B[39m(max_new_tokens, i):\n",
      "\u001B[0;31mNameError\u001B[0m: name 'endpoint_url' is not defined"
     ]
    }
   ],
   "execution_count": 5
  },
  {
   "metadata": {},
   "cell_type": "markdown",
   "source": "## Multi-LoRA",
   "id": "19b5a1896dd95834"
  },
  {
   "metadata": {
    "ExecuteTime": {
     "end_time": "2025-03-12T03:22:46.314828Z",
     "start_time": "2025-03-12T03:22:46.308503Z"
    }
   },
   "cell_type": "code",
   "source": [
    "def run_with_adapter(prompt, adapter_id):\n",
    "    duration_s = []\n",
    "\n",
    "    t0 = time.time()\n",
    "    for resp in client.generate_stream(\n",
    "        prompt,\n",
    "        adapter_id=adapter_id,\n",
    "        adapter_source=\"hub\",\n",
    "        max_new_tokens=64,\n",
    "    ):\n",
    "        duration_s.append(time.time() - t0)\n",
    "        if not resp.token.special:\n",
    "            print(resp.token.text, sep=\"\", end=\"\", flush=True)\n",
    "        t0 = time.time()\n",
    "\n",
    "    print(\"\\n\\n-------------\")\n",
    "    print(\"Time to first token (TTFT) (s):\", duration_s[0])\n",
    "    print(\"Throughout (tok / s):\", (len(duration_s) -1) / sum(duration_s[1:]))"
   ],
   "id": "ec866b4f658c85f9",
   "outputs": [],
   "execution_count": 6
  },
  {
   "metadata": {},
   "cell_type": "code",
   "outputs": [],
   "execution_count": null,
   "source": [
    "pt_hellaswag_processed = \\\n",
    "    \"\"\"You are provided with an incomplete passage below. Please read the passage and then finish it with an appropriate response. For example:\n",
    "\n",
    "    ### Passage: My friend and I think alike. We\n",
    "\n",
    "    ### Ending: often finish each other's sentences.\n",
    "\n",
    "    Now please continue the following passage:\n",
    "\n",
    "    ### Passage: {ctx}\n",
    "\n",
    "    ### Ending: \"\"\"\n",
    "\n",
    "ctx = \"Numerous people are watching others on a filed. Trainers are playing frisbee with their dogs. the dogs\"\n",
    "\n",
    "run_with_adapter(pt_hellaswag_processed.format(ctx=ctx), adapter_id=\"predibase/hellaswag_processed\")\n"
   ],
   "id": "a0977e7c69adf051"
  },
  {
   "metadata": {},
   "cell_type": "code",
   "outputs": [],
   "execution_count": null,
   "source": [
    "pt_cnn = \\\n",
    "\"\"\"You are given a news article below. Please summarize the article, including only its highlights.\n",
    "\n",
    "### Article: {article}\n",
    "\n",
    "### Summary: \"\"\"\n",
    "\n",
    "article = \"(CNN)Former Vice President Walter Mondale was released from the Mayo Clinic on Saturday after being admitted with influenza, hospital spokeswoman Kelley Luckstein said. \\\"He's doing well. We treated him for flu and cold symptoms and he was released today,\\\" she said. Mondale, 87, was diagnosed after he went to the hospital for a routine checkup following a fever, former President Jimmy Carter said Friday. \\\"He is in the bed right this moment, but looking forward to come back home,\\\" Carter said during a speech at a Nobel Peace Prize Forum in Minneapolis. \\\"He said tell everybody he is doing well.\\\" Mondale underwent treatment at the Mayo Clinic in Rochester, Minnesota. The 42nd vice president served under Carter between 1977 and 1981, and later ran for President, but lost to Ronald Reagan. But not before he made history by naming a woman, U.S. Rep. Geraldine A. Ferraro of New York, as his running mate. Before that, the former lawyer was  a U.S. senator from Minnesota. His wife, Joan Mondale, died last year.\"\n",
    "\n",
    "\n",
    "run_with_adapter(pt_cnn.format(article=article), adapter_id=\"predibase/cnn\")"
   ],
   "id": "e781e6e16e196d35"
  },
  {
   "metadata": {},
   "cell_type": "code",
   "outputs": [],
   "execution_count": null,
   "source": [
    "pt_conllpp = \"\"\"\n",
    "Your task is a Named Entity Recognition (NER) task. Predict the category of\n",
    "each entity, then place the entity into the list associated with the\n",
    "category in an output JSON payload. Below is an example:\n",
    "\n",
    "Input: EU rejects German call to boycott British lamb . Output: {{\"person\":\n",
    "[], \"organization\": [\"EU\"], \"location\": [], \"miscellaneous\": [\"German\",\n",
    "\"British\"]}}\n",
    "\n",
    "Now, complete the task.\n",
    "\n",
    "Input: {inpt} Output:\"\"\"\n",
    "\n",
    "inpt = \"Only France and Britain backed Fischler 's proposal .\"\n",
    "\n",
    "\n",
    "run_with_adapter(pt_conllpp.format(inpt=inpt), adapter_id=\"predibase/conllpp\")"
   ],
   "id": "e1e5efb4409417f9"
  },
  {
   "metadata": {},
   "cell_type": "code",
   "outputs": [],
   "execution_count": null,
   "source": [
    "duration_s = [[], [], []]\n",
    "\n",
    "async def run(prompt, adapter_id, i):\n",
    "    t0 = time.time()\n",
    "    async for resp in async_client.generate_stream(\n",
    "        prompt,\n",
    "        adapter_id=adapter_id,\n",
    "        adapter_source=\"hub\",\n",
    "        max_new_tokens=64,\n",
    "    ):\n",
    "        duration_s[i].append(time.time() - t0)\n",
    "        if not resp.token.special:\n",
    "            print(format_text(resp.token.text, i), sep=\"\", end=\"\", flush=True)\n",
    "        t0 = time.time()\n",
    "\n",
    "t0 = time.time()\n",
    "prompts = [\n",
    "    pt_hellaswag_processed.format(ctx=ctx),\n",
    "    pt_cnn.format(article=article),\n",
    "    pt_conllpp.format(inpt=inpt),\n",
    "]\n",
    "adapter_ids = [\n",
    "    \"predibase/hellaswag_processed\",\n",
    "    \"predibase/cnn\",\n",
    "    \"predibase/conllpp\",\n",
    "]\n",
    "await asyncio.gather(*[run(prompt, adapter_id, i)\n",
    "                       for i, (prompt, adapter_id) in enumerate(zip(prompts, adapter_ids))])\n",
    "print(\"\\n\\n-------------\")\n",
    "print(\"Time to first token (TTFT) (s):\", [s[0] for s in duration_s])\n",
    "print(\"Throughout (tok / s):\", [(len(s) - 1) / sum(s[1:]) for s in duration_s])\n",
    "print(\"Total duration (s):\", time.time() - t0)"
   ],
   "id": "85ba776bafbdcc36"
  },
  {
   "metadata": {},
   "cell_type": "markdown",
   "source": "## Bonus: Structured Generation",
   "id": "e45c8ac6fdac944c"
  },
  {
   "metadata": {
    "ExecuteTime": {
     "end_time": "2025-03-12T03:51:18.024766Z",
     "start_time": "2025-03-12T03:51:18.009271Z"
    }
   },
   "cell_type": "code",
   "source": [
    "from pydantic import BaseModel, constr\n",
    "\n",
    "class Person(BaseModel):\n",
    "    name: constr(max_length=10)\n",
    "    age: int\n",
    "\n",
    "\n",
    "schema = Person.model_json_schema()\n",
    "schema"
   ],
   "id": "f0b22139274a9241",
   "outputs": [
    {
     "data": {
      "text/plain": [
       "{'properties': {'name': {'maxLength': 10, 'title': 'Name', 'type': 'string'},\n",
       "  'age': {'title': 'Age', 'type': 'integer'}},\n",
       " 'required': ['name', 'age'],\n",
       " 'title': 'Person',\n",
       " 'type': 'object'}"
      ]
     },
     "execution_count": 7,
     "metadata": {},
     "output_type": "execute_result"
    }
   ],
   "execution_count": 7
  },
  {
   "metadata": {},
   "cell_type": "code",
   "outputs": [],
   "execution_count": null,
   "source": [
    "resp = client.generate(\n",
    "    \"Create a person description for me\",\n",
    "    response_format={\"type\": \"json_object\", \"schema\": schema},\n",
    ")\n",
    "json.loads(resp.generated_text)"
   ],
   "id": "f9a15c24e4b9a68f"
  },
  {
   "metadata": {},
   "cell_type": "code",
   "outputs": [],
   "execution_count": null,
   "source": [
    "prompt_template = \"\"\"\n",
    "Your task is a Named Entity Recognition (NER) task. Predict the category of each entity, then place the entity into the list associated with the category in an output JSON payload. Below is an example:\n",
    "\n",
    "Input: EU rejects German call to boycott British lamb . Output: {{\"person\": [], \"organization\": [\"EU\"], \"location\": [], \"miscellaneous\": [\"German\", \"British\"]}}\n",
    "\n",
    "Now, complete the task.\n",
    "\n",
    "Input: {inpt} Output:\"\"\"\n",
    "\n",
    "# Base Mistral-7B\n",
    "resp = client.generate(\n",
    "    prompt_template.format(input=\"Only France and Britain backed Fischler 's proposal .\"),\n",
    "    max_new_tokens=128,\n",
    ")\n",
    "resp.generated_text"
   ],
   "id": "c8863bf56ece6730"
  },
  {
   "metadata": {
    "ExecuteTime": {
     "end_time": "2025-03-12T03:56:00.533173Z",
     "start_time": "2025-03-12T03:56:00.522561Z"
    }
   },
   "cell_type": "code",
   "source": [
    "from typing import List\n",
    "\n",
    "class Output(BaseModel):\n",
    "    person: List[str]\n",
    "    organization: List[str]\n",
    "    location: List[str]\n",
    "    miscellaneous: List[str]\n",
    "\n",
    "schema = Output.model_json_schema()\n",
    "schema"
   ],
   "id": "f393aceda2796a25",
   "outputs": [
    {
     "data": {
      "text/plain": [
       "{'properties': {'person': {'items': {'type': 'string'},\n",
       "   'title': 'Person',\n",
       "   'type': 'array'},\n",
       "  'organization': {'items': {'type': 'string'},\n",
       "   'title': 'Organization',\n",
       "   'type': 'array'},\n",
       "  'location': {'items': {'type': 'string'},\n",
       "   'title': 'Location',\n",
       "   'type': 'array'},\n",
       "  'miscellaneous': {'items': {'type': 'string'},\n",
       "   'title': 'Miscellaneous',\n",
       "   'type': 'array'}},\n",
       " 'required': ['person', 'organization', 'location', 'miscellaneous'],\n",
       " 'title': 'Output',\n",
       " 'type': 'object'}"
      ]
     },
     "execution_count": 8,
     "metadata": {},
     "output_type": "execute_result"
    }
   ],
   "execution_count": 8
  },
  {
   "metadata": {},
   "cell_type": "code",
   "outputs": [],
   "execution_count": null,
   "source": [
    "resp = client.generate(\n",
    "    prompt_template.format(inpt=\"Only France and Britain backed Fischler 's proposal .\"),\n",
    "    response_format={\"type\": \"json_object\", \"schema\": schema},\n",
    "    max_new_tokens=128,\n",
    ")\n",
    "json.loads(resp.generated_text)"
   ],
   "id": "4d5ec76b634d6fcc"
  },
  {
   "metadata": {},
   "cell_type": "code",
   "outputs": [],
   "execution_count": null,
   "source": [
    "resp = client.generate(\n",
    "    prompt_template.format(inpt=\"Only France and Britain backed Fischler 's proposal .\"),\n",
    "    adapter_id=\"predibase/conllpp\",\n",
    "    adapter_source=\"hub\",\n",
    "    response_format={\"type\": \"json_object\", \"schema\": schema},\n",
    "    max_new_tokens=128,\n",
    ")\n",
    "json.loads(resp.generated_text)"
   ],
   "id": "838b8e7913de1350"
  }
 ],
 "metadata": {
  "kernelspec": {
   "display_name": "Python 3",
   "language": "python",
   "name": "python3"
  },
  "language_info": {
   "codemirror_mode": {
    "name": "ipython",
    "version": 2
   },
   "file_extension": ".py",
   "mimetype": "text/x-python",
   "name": "python",
   "nbconvert_exporter": "python",
   "pygments_lexer": "ipython2",
   "version": "2.7.6"
  }
 },
 "nbformat": 4,
 "nbformat_minor": 5
}
