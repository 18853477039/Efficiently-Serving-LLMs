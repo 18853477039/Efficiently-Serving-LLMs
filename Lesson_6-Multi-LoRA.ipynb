{
 "cells": [
  {
   "cell_type": "code",
   "id": "initial_id",
   "metadata": {
    "collapsed": true,
    "ExecuteTime": {
     "end_time": "2025-03-11T15:25:49.983840Z",
     "start_time": "2025-03-11T15:25:48.888944Z"
    }
   },
   "source": [
    "import copy\n",
    "import matplotlib.pyplot as plt\n",
    "import numpy as np\n",
    "import random\n",
    "import time\n",
    "import torch\n",
    "import torch.nn.functional as F\n",
    "from tqdm import tqdm"
   ],
   "outputs": [],
   "execution_count": 1
  },
  {
   "metadata": {
    "ExecuteTime": {
     "end_time": "2025-03-11T15:58:11.438847Z",
     "start_time": "2025-03-11T15:58:11.433414Z"
    }
   },
   "cell_type": "code",
   "source": [
    "class AbstractMultiLoraModel(torch.nn.Module):\n",
    "    def __init__(self):\n",
    "        super().__init__()\n",
    "\n",
    "        # hidden_size = 10\n",
    "        # set this so low to ensure we are not\n",
    "        # compute-bound by the linear layer\n",
    "        # this is only an issue when running on CPU,\n",
    "        # for GPUs we can set this much\n",
    "        # higher and still avoid being compute bound\n",
    "        self.embedding = torch.nn.Embedding(10, 10)\n",
    "        self.linear = torch.nn.Linear(10, 10)\n",
    "        self.lm_head = torch.nn.Linear(10, 10)\n",
    "\n",
    "    def linear_lora(\n",
    "            self,\n",
    "            x: torch.Tensor, # (batch_size, seq_len, features)\n",
    "            loras_a: torch.Tensor, # (num_loras, in_features, out_features)\n",
    "            loras_b: torch.Tensor, # (num_loras, out_features, in_features)\n",
    "            lora_indices: torch.LongTensor, # (batch_size,)\n",
    "        ) -> torch.Tensor:\n",
    "        raise NotImplementedError()\n",
    "\n",
    "    def forward(self, input_ids, loras_a, loras_b, lora_indices):\n",
    "        x = self.embedding(input_ids)\n",
    "        x = self.linear_lora(x, loras_a, loras_b, lora_indices)\n",
    "        x = self.lm_head(x)\n",
    "        return x"
   ],
   "id": "425fe021d3a0a8df",
   "outputs": [],
   "execution_count": 13
  },
  {
   "metadata": {
    "ExecuteTime": {
     "end_time": "2025-03-11T15:58:11.648298Z",
     "start_time": "2025-03-11T15:58:11.645542Z"
    }
   },
   "cell_type": "code",
   "source": [
    "class LoopMultiLoraModel(AbstractMultiLoraModel):\n",
    "    def linear_lora(\n",
    "            self,\n",
    "            x: torch.Tensor, # (batch_size, seq_len, features)\n",
    "            loras_a: torch.Tensor, # (num_loras, in_features, out_features)\n",
    "            loras_b: torch.Tensor,\n",
    "            lora_indices: torch.LongTensor, # (batch_size,)\n",
    "        ) -> torch.Tensor:\n",
    "        y = self.linear(x)\n",
    "        for batch_index, lora_index in enumerate(lora_indices):\n",
    "            lora_a = loras_a[lora_index]\n",
    "            lora_b = loras_b[lora_index]\n",
    "            y[batch_index] += x[batch_index] @ lora_a @ lora_b\n",
    "        return y\n",
    "\n"
   ],
   "id": "7badc00fd3650b4f",
   "outputs": [],
   "execution_count": 14
  },
  {
   "metadata": {
    "ExecuteTime": {
     "end_time": "2025-03-11T15:58:11.799262Z",
     "start_time": "2025-03-11T15:58:11.797574Z"
    }
   },
   "cell_type": "code",
   "source": [
    "# toy example of a detokenizer. The vocabulary only consists of 10 words (different colors)\n",
    "detokenizer = ['red', 'green', 'blue', 'yellow', 'black', 'white', 'purple', 'orange', 'pink', 'brown']"
   ],
   "id": "bfcd290810e261b5",
   "outputs": [],
   "execution_count": 15
  },
  {
   "metadata": {
    "ExecuteTime": {
     "end_time": "2025-03-11T15:58:12.708905Z",
     "start_time": "2025-03-11T15:58:12.705761Z"
    }
   },
   "cell_type": "code",
   "source": [
    "# dummy inputs\n",
    "input_ids = torch.LongTensor([[0, 1, 2, 3, 4, 5, 6, 7]])"
   ],
   "id": "e2135870c65c4683",
   "outputs": [],
   "execution_count": 16
  },
  {
   "metadata": {
    "ExecuteTime": {
     "end_time": "2025-03-11T15:58:13.390411Z",
     "start_time": "2025-03-11T15:58:13.380065Z"
    }
   },
   "cell_type": "code",
   "source": "torch.manual_seed(42)",
   "id": "f3ed12fae0a47b0d",
   "outputs": [
    {
     "data": {
      "text/plain": [
       "<torch._C.Generator at 0x130b09cb0>"
      ]
     },
     "execution_count": 17,
     "metadata": {},
     "output_type": "execute_result"
    }
   ],
   "execution_count": 17
  },
  {
   "metadata": {
    "ExecuteTime": {
     "end_time": "2025-03-11T15:58:14.129946Z",
     "start_time": "2025-03-11T15:58:14.126330Z"
    }
   },
   "cell_type": "code",
   "source": [
    "def generate_token(model, **kwargs):\n",
    "    with torch.no_grad():\n",
    "        logits = model(**kwargs)\n",
    "    last_logits = logits[:, -1, :]\n",
    "    next_token_ids = last_logits.argmax(dim=1)\n",
    "\n",
    "    return [detokenizer[token_id] for token_id in next_token_ids]"
   ],
   "id": "41455611625b79f4",
   "outputs": [],
   "execution_count": 18
  },
  {
   "metadata": {
    "ExecuteTime": {
     "end_time": "2025-03-11T15:58:14.913235Z",
     "start_time": "2025-03-11T15:58:14.907866Z"
    }
   },
   "cell_type": "code",
   "source": "model = LoopMultiLoraModel()",
   "id": "3269c636530f549f",
   "outputs": [],
   "execution_count": 19
  },
  {
   "metadata": {
    "ExecuteTime": {
     "end_time": "2025-03-11T15:58:15.629686Z",
     "start_time": "2025-03-11T15:58:15.615355Z"
    }
   },
   "cell_type": "code",
   "source": [
    "# constants\n",
    "bs = 1\n",
    "num_loras = 64\n",
    "h = 10\n",
    "r = 2\n",
    "\n",
    "# create contiguous blocks for random LoRA weights\n",
    "loras_a = torch.randn(num_loras, h, r)\n",
    "loras_b = torch.randn(num_loras, r, h)\n",
    "\n",
    "for i in range(10):\n",
    "    # randomize the LoRAs each iterration\n",
    "    lora_indices = torch.randint(num_loras, (bs, ), dtype=torch.long)\n",
    "    next_token = generate_token(\n",
    "        model,\n",
    "        input_ids = input_ids,\n",
    "        loras_a = loras_a,\n",
    "        loras_b = loras_b,\n",
    "        lora_indices = lora_indices,\n",
    "    )\n",
    "    print(next_token)"
   ],
   "id": "344a8baf050a3ca9",
   "outputs": [
    {
     "name": "stdout",
     "output_type": "stream",
     "text": [
      "['green']\n",
      "['red']\n",
      "['brown']\n",
      "['blue']\n",
      "['pink']\n",
      "['blue']\n",
      "['red']\n",
      "['green']\n",
      "['purple']\n",
      "['red']\n"
     ]
    }
   ],
   "execution_count": 20
  },
  {
   "metadata": {
    "ExecuteTime": {
     "end_time": "2025-03-11T16:08:22.089837Z",
     "start_time": "2025-03-11T16:08:22.081451Z"
    }
   },
   "cell_type": "code",
   "source": [
    "# constants\n",
    "seq_len = 8\n",
    "vocab_size = 10\n",
    "nsamples = 500\n",
    "max_batch_size = 64\n",
    "\n",
    "def benchmark(model):\n",
    "    avg_latencies = []\n",
    "    for bs in range(1, max_batch_size + 1):\n",
    "        latencies = []\n",
    "        for _ in range(nsamples):\n",
    "            # randomize the inputs and LoRA indices\n",
    "            input_ids = torch.randint(\n",
    "                vocab_size,\n",
    "                (bs, seq_len),\n",
    "                dtype=torch.long,\n",
    "            )\n",
    "            lora_indices = torch.randint(\n",
    "                num_loras, (bs, ), dtype=torch.long\n",
    "            )\n",
    "\n",
    "            # measure the end-to-end latency for\n",
    "            # generating a single token\n",
    "            t0 = time.time()\n",
    "            next_token = generate_token(\n",
    "                model,\n",
    "                input_ids=input_ids,\n",
    "                loras_a=loras_a,\n",
    "                loras_b=loras_b,\n",
    "                lora_indices=lora_indices,\n",
    "            )\n",
    "            latencies.append(time.time() - t0)\n",
    "\n",
    "        # average the latency across all the samples\n",
    "        latency_s = sum(latencies) / len(latencies)\n",
    "        avg_latencies.append(latency_s)\n",
    "        print(bs, latency_s)\n",
    "    return avg_latencies\n"
   ],
   "id": "f630a1efa53f3f43",
   "outputs": [],
   "execution_count": 21
  },
  {
   "metadata": {
    "ExecuteTime": {
     "end_time": "2025-03-11T16:08:48.386822Z",
     "start_time": "2025-03-11T16:08:39.068469Z"
    }
   },
   "cell_type": "code",
   "source": "avg_latencies_loop = benchmark(model)",
   "id": "d75d5cf19592c35c",
   "outputs": [
    {
     "name": "stdout",
     "output_type": "stream",
     "text": [
      "1 4.006385803222656e-05\n",
      "2 4.246616363525391e-05\n",
      "3 4.7069549560546877e-05\n",
      "4 5.512571334838867e-05\n",
      "5 6.333398818969726e-05\n",
      "6 7.223749160766601e-05\n",
      "7 7.87053108215332e-05\n",
      "8 8.775615692138672e-05\n",
      "9 9.613227844238282e-05\n",
      "10 0.0001082601547241211\n",
      "11 0.00010964107513427734\n",
      "12 0.00012347221374511719\n",
      "13 0.00012713623046875\n",
      "14 0.00013376903533935546\n",
      "15 0.00014149999618530274\n",
      "16 0.00015014171600341797\n",
      "17 0.00015889167785644533\n",
      "18 0.0001640753746032715\n",
      "19 0.00018021202087402345\n",
      "20 0.0001906604766845703\n",
      "21 0.00019137191772460938\n",
      "22 0.00019594097137451172\n",
      "23 0.00020711231231689453\n",
      "24 0.00021252155303955078\n",
      "25 0.00022061395645141602\n",
      "26 0.00022520685195922852\n",
      "27 0.0002430562973022461\n",
      "28 0.00024422645568847654\n",
      "29 0.00025064897537231445\n",
      "30 0.00025484323501586916\n",
      "31 0.0002643575668334961\n",
      "32 0.0002784514427185059\n",
      "33 0.000286135196685791\n",
      "34 0.00028821802139282227\n",
      "35 0.00029563474655151366\n",
      "36 0.0003070321083068848\n",
      "37 0.00031648588180541995\n",
      "38 0.00031835412979125974\n",
      "39 0.0003376679420471191\n",
      "40 0.0003370227813720703\n",
      "41 0.0003692927360534668\n",
      "42 0.0003572993278503418\n",
      "43 0.0003736758232116699\n",
      "44 0.0003800992965698242\n",
      "45 0.00038412094116210935\n",
      "46 0.00039731454849243166\n",
      "47 0.000392240047454834\n",
      "48 0.00040732765197753904\n",
      "49 0.0004089627265930176\n",
      "50 0.0004253811836242676\n",
      "51 0.0004275102615356445\n",
      "52 0.0004275665283203125\n",
      "53 0.00044394874572753907\n",
      "54 0.000452392578125\n",
      "55 0.00055122709274292\n",
      "56 0.0004968500137329102\n",
      "57 0.00047730493545532226\n",
      "58 0.00047413063049316404\n",
      "59 0.00048627424240112307\n",
      "60 0.0007186446189880371\n",
      "61 0.0005093708038330078\n",
      "62 0.0005084543228149414\n",
      "63 0.000514289379119873\n",
      "64 0.0005285048484802246\n"
     ]
    }
   ],
   "execution_count": 22
  },
  {
   "metadata": {
    "ExecuteTime": {
     "end_time": "2025-03-11T16:11:07.162265Z",
     "start_time": "2025-03-11T16:11:07.090783Z"
    }
   },
   "cell_type": "code",
   "source": [
    "x = list(range(1, max_batch_size + 1))\n",
    "plt.plot(x, avg_latencies_loop, label=\"loop\")\n",
    "\n",
    "plt.xlabel('Batch Size')\n",
    "plt.ylabel('Avg Latency (s)')\n",
    "plt.title('Multi-LoRA latency w.r.t batch size')\n",
    "plt.legend()\n",
    "\n",
    "plt.show()"
   ],
   "id": "4964524bde34d9d1",
   "outputs": [
    {
     "data": {
      "text/plain": [
       "<Figure size 640x480 with 1 Axes>"
      ],
      "image/png": "[encoded data removed]"
     },
     "metadata": {},
     "output_type": "display_data"
    }
   ],
   "execution_count": 24
  },
  {
   "metadata": {
    "ExecuteTime": {
     "end_time": "2025-03-11T16:17:13.079944Z",
     "start_time": "2025-03-11T16:17:13.074164Z"
    }
   },
   "cell_type": "code",
   "source": [
    "class GatheredMultiLoraModel(AbstractMultiLoraModel):\n",
    "    def linear_lora(\n",
    "            self,\n",
    "            x: torch.Tensor,\n",
    "            loras_a: torch.Tensor,\n",
    "            loras_b: torch.Tensor,\n",
    "            lora_indices: torch.LongTensor,\n",
    "        ) -> torch.Tensor:\n",
    "            y = self.linear(x)\n",
    "\n",
    "            # gather the LoRA weights into a new tensor and apply\n",
    "            lora_a = torch.index_select(loras_a, 0, lora_indices)\n",
    "            lora_b = torch.index_select(loras_b, 0, lora_indices)\n",
    "            y += x @ lora_a @ lora_b\n",
    "            return y"
   ],
   "id": "cab8e2b5aedbc961",
   "outputs": [],
   "execution_count": 25
  },
  {
   "metadata": {
    "ExecuteTime": {
     "end_time": "2025-03-11T16:17:45.345403Z",
     "start_time": "2025-03-11T16:17:45.330432Z"
    }
   },
   "cell_type": "code",
   "source": "model = GatheredMultiLoraModel()",
   "id": "7be4b79f48e7dd8c",
   "outputs": [],
   "execution_count": 26
  },
  {
   "metadata": {
    "ExecuteTime": {
     "end_time": "2025-03-11T16:18:24.913043Z",
     "start_time": "2025-03-11T16:18:22.394664Z"
    }
   },
   "cell_type": "code",
   "source": "avg_latencies_gather = benchmark(model)",
   "id": "cf9ac3733660f5bd",
   "outputs": [
    {
     "name": "stdout",
     "output_type": "stream",
     "text": [
      "1 4.984712600708008e-05\n",
      "2 3.5380363464355466e-05\n",
      "3 3.541231155395508e-05\n",
      "4 3.6295890808105466e-05\n",
      "5 3.7399768829345706e-05\n",
      "6 3.8881301879882815e-05\n",
      "7 4.153680801391601e-05\n",
      "8 4.1898250579833986e-05\n",
      "9 4.344034194946289e-05\n",
      "10 4.511308670043945e-05\n",
      "11 4.945993423461914e-05\n",
      "12 4.724407196044922e-05\n",
      "13 5.007028579711914e-05\n",
      "14 5.306529998779297e-05\n",
      "15 5.400991439819336e-05\n",
      "16 5.267572402954101e-05\n",
      "17 6.858491897583008e-05\n",
      "18 5.975866317749023e-05\n",
      "19 5.885410308837891e-05\n",
      "20 6.081962585449219e-05\n",
      "21 6.151342391967773e-05\n",
      "22 6.300640106201171e-05\n",
      "23 6.28190040588379e-05\n",
      "24 6.376457214355468e-05\n",
      "25 6.569671630859375e-05\n",
      "26 6.821775436401367e-05\n",
      "27 6.700038909912109e-05\n",
      "28 6.821250915527343e-05\n",
      "29 6.855583190917968e-05\n",
      "30 7.084274291992188e-05\n",
      "31 7.306814193725587e-05\n",
      "32 7.484483718872071e-05\n",
      "33 7.504940032958984e-05\n",
      "34 7.46779441833496e-05\n",
      "35 7.563257217407227e-05\n",
      "36 7.782888412475586e-05\n",
      "37 8.278179168701172e-05\n",
      "38 8.298349380493164e-05\n",
      "39 8.219718933105469e-05\n",
      "40 8.215808868408203e-05\n",
      "41 8.124494552612305e-05\n",
      "42 8.559513092041016e-05\n",
      "43 8.47930908203125e-05\n",
      "44 8.772993087768555e-05\n",
      "45 8.77537727355957e-05\n",
      "46 8.99348258972168e-05\n",
      "47 9.266805648803711e-05\n",
      "48 9.202861785888671e-05\n",
      "49 9.199619293212891e-05\n",
      "50 9.582424163818359e-05\n",
      "51 9.600925445556641e-05\n",
      "52 9.814071655273438e-05\n",
      "53 0.0001021275520324707\n",
      "54 9.875011444091797e-05\n",
      "55 0.0001002039909362793\n",
      "56 0.00010279703140258789\n",
      "57 0.00011230707168579102\n",
      "58 0.0001067366600036621\n",
      "59 0.00010871124267578125\n",
      "60 0.00011038827896118164\n",
      "61 0.00010995006561279297\n",
      "62 0.00011049556732177734\n",
      "63 0.0001136007308959961\n",
      "64 0.0001149892807006836\n"
     ]
    }
   ],
   "execution_count": 27
  },
  {
   "metadata": {
    "ExecuteTime": {
     "end_time": "2025-03-11T16:20:35.212393Z",
     "start_time": "2025-03-11T16:20:35.125288Z"
    }
   },
   "cell_type": "code",
   "source": [
    "x = list(range(1, max_batch_size + 1))\n",
    "plt.plot(x, avg_latencies_loop, label=\"loop\")\n",
    "plt.plot(x, avg_latencies_gather, label=\"gather\")\n",
    "\n",
    "plt.xlabel('Batch Size')\n",
    "plt.ylabel('Avg Latency (s)')\n",
    "plt.title('Multi-LoRA latency w.r.t. batch size')\n",
    "plt.legend()\n",
    "\n",
    "plt.show()"
   ],
   "id": "c95511e26e37fcb0",
   "outputs": [
    {
     "data": {
      "text/plain": [
       "<Figure size 640x480 with 1 Axes>"
      ],
      "image/png": "[encoded data removed]"
     },
     "metadata": {},
     "output_type": "display_data"
    }
   ],
   "execution_count": 28
  },
  {
   "metadata": {},
   "cell_type": "code",
   "outputs": [],
   "execution_count": null,
   "source": "",
   "id": "e8021aa0909f7e29"
  }
 ],
 "metadata": {
  "kernelspec": {
   "display_name": "Python 3",
   "language": "python",
   "name": "python3"
  },
  "language_info": {
   "codemirror_mode": {
    "name": "ipython",
    "version": 2
   },
   "file_extension": ".py",
   "mimetype": "text/x-python",
   "name": "python",
   "nbconvert_exporter": "python",
   "pygments_lexer": "ipython2",
   "version": "2.7.6"
  }
 },
 "nbformat": 4,
 "nbformat_minor": 5
}
